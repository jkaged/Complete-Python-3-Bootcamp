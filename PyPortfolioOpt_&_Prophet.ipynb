{
  "nbformat": 4,
  "nbformat_minor": 0,
  "metadata": {
    "colab": {
      "provenance": [],
      "toc_visible": true,
      "include_colab_link": true
    },
    "kernelspec": {
      "name": "python3",
      "display_name": "Python 3"
    },
    "language_info": {
      "name": "python"
    }
  },
  "cells": [
    {
      "cell_type": "markdown",
      "metadata": {
        "id": "view-in-github",
        "colab_type": "text"
      },
      "source": [
        "<a href=\"https://colab.research.google.com/github/jkaged/Complete-Python-3-Bootcamp/blob/master/PyPortfolioOpt_%26_Prophet.ipynb\" target=\"_parent\"><img src=\"https://colab.research.google.com/assets/colab-badge.svg\" alt=\"Open In Colab\"/></a>"
      ]
    },
    {
      "cell_type": "markdown",
      "source": [
        " # Data Gathering with YFinance, PyPortfolioOpt & Prophet\n",
        "\n",
        "Data gathering used to be a monumental task. However, nowadays we can get a company’s fundamental data within seconds."
      ],
      "metadata": {
        "id": "mx2sILv6c1Vr"
      }
    },
    {
      "cell_type": "code",
      "execution_count": null,
      "metadata": {
        "id": "luNeK8FLsH_1"
      },
      "outputs": [],
      "source": [
        "!pip install prophet\n",
        "!pip install yfinance\n",
        "!pip install pip install PyPortfolioOpt\n"
      ]
    },
    {
      "cell_type": "code",
      "source": [
        "#Import Libs\n",
        "import yfinance as yf\n",
        "import pandas as df\n",
        "from fbprophet import Prophet\n",
        "from pypfopt.expected_returns import mean_historical_return\n",
        "from pypfopt.risk_models import CovarianceShrinkage\n",
        "from pypfopt import risk_models\n",
        "from pypfopt.efficient_frontier import EfficientFrontier\n",
        "from pypfopt.discrete_allocation import DiscreteAllocation, get_latest_prices"
      ],
      "metadata": {
        "id": "GHTklViFs-An"
      },
      "execution_count": null,
      "outputs": []
    },
    {
      "cell_type": "code",
      "source": [
        "#Create stock object and get financial data (AAPL)\n",
        "aapl = yf.Ticker(\"AAPL\")\n",
        "aapl.financials.head(3)"
      ],
      "metadata": {
        "colab": {
          "base_uri": "https://localhost:8080/",
          "height": 143
        },
        "id": "dG9wd8IwtFci",
        "outputId": "676d9ba2-d5a7-4194-bce5-3a0d69f26f88"
      },
      "execution_count": null,
      "outputs": [
        {
          "output_type": "execute_result",
          "data": {
            "text/plain": [
              "                                  2021-09-25     2020-09-26     2019-09-28  \\\n",
              "Research Development           21914000000.0  18752000000.0  16217000000.0   \n",
              "Effect Of Accounting Charges            None           None           None   \n",
              "Income Before Tax             109207000000.0  67091000000.0  65737000000.0   \n",
              "\n",
              "                                 2018-09-29  \n",
              "Research Development          14236000000.0  \n",
              "Effect Of Accounting Charges           None  \n",
              "Income Before Tax             72903000000.0  "
            ],
            "text/html": [
              "\n",
              "  <div id=\"df-8347195a-9670-41dc-8842-bc1ae49ddf9e\">\n",
              "    <div class=\"colab-df-container\">\n",
              "      <div>\n",
              "<style scoped>\n",
              "    .dataframe tbody tr th:only-of-type {\n",
              "        vertical-align: middle;\n",
              "    }\n",
              "\n",
              "    .dataframe tbody tr th {\n",
              "        vertical-align: top;\n",
              "    }\n",
              "\n",
              "    .dataframe thead th {\n",
              "        text-align: right;\n",
              "    }\n",
              "</style>\n",
              "<table border=\"1\" class=\"dataframe\">\n",
              "  <thead>\n",
              "    <tr style=\"text-align: right;\">\n",
              "      <th></th>\n",
              "      <th>2021-09-25</th>\n",
              "      <th>2020-09-26</th>\n",
              "      <th>2019-09-28</th>\n",
              "      <th>2018-09-29</th>\n",
              "    </tr>\n",
              "  </thead>\n",
              "  <tbody>\n",
              "    <tr>\n",
              "      <th>Research Development</th>\n",
              "      <td>21914000000.0</td>\n",
              "      <td>18752000000.0</td>\n",
              "      <td>16217000000.0</td>\n",
              "      <td>14236000000.0</td>\n",
              "    </tr>\n",
              "    <tr>\n",
              "      <th>Effect Of Accounting Charges</th>\n",
              "      <td>None</td>\n",
              "      <td>None</td>\n",
              "      <td>None</td>\n",
              "      <td>None</td>\n",
              "    </tr>\n",
              "    <tr>\n",
              "      <th>Income Before Tax</th>\n",
              "      <td>109207000000.0</td>\n",
              "      <td>67091000000.0</td>\n",
              "      <td>65737000000.0</td>\n",
              "      <td>72903000000.0</td>\n",
              "    </tr>\n",
              "  </tbody>\n",
              "</table>\n",
              "</div>\n",
              "      <button class=\"colab-df-convert\" onclick=\"convertToInteractive('df-8347195a-9670-41dc-8842-bc1ae49ddf9e')\"\n",
              "              title=\"Convert this dataframe to an interactive table.\"\n",
              "              style=\"display:none;\">\n",
              "        \n",
              "  <svg xmlns=\"http://www.w3.org/2000/svg\" height=\"24px\"viewBox=\"0 0 24 24\"\n",
              "       width=\"24px\">\n",
              "    <path d=\"M0 0h24v24H0V0z\" fill=\"none\"/>\n",
              "    <path d=\"M18.56 5.44l.94 2.06.94-2.06 2.06-.94-2.06-.94-.94-2.06-.94 2.06-2.06.94zm-11 1L8.5 8.5l.94-2.06 2.06-.94-2.06-.94L8.5 2.5l-.94 2.06-2.06.94zm10 10l.94 2.06.94-2.06 2.06-.94-2.06-.94-.94-2.06-.94 2.06-2.06.94z\"/><path d=\"M17.41 7.96l-1.37-1.37c-.4-.4-.92-.59-1.43-.59-.52 0-1.04.2-1.43.59L10.3 9.45l-7.72 7.72c-.78.78-.78 2.05 0 2.83L4 21.41c.39.39.9.59 1.41.59.51 0 1.02-.2 1.41-.59l7.78-7.78 2.81-2.81c.8-.78.8-2.07 0-2.86zM5.41 20L4 18.59l7.72-7.72 1.47 1.35L5.41 20z\"/>\n",
              "  </svg>\n",
              "      </button>\n",
              "      \n",
              "  <style>\n",
              "    .colab-df-container {\n",
              "      display:flex;\n",
              "      flex-wrap:wrap;\n",
              "      gap: 12px;\n",
              "    }\n",
              "\n",
              "    .colab-df-convert {\n",
              "      background-color: #E8F0FE;\n",
              "      border: none;\n",
              "      border-radius: 50%;\n",
              "      cursor: pointer;\n",
              "      display: none;\n",
              "      fill: #1967D2;\n",
              "      height: 32px;\n",
              "      padding: 0 0 0 0;\n",
              "      width: 32px;\n",
              "    }\n",
              "\n",
              "    .colab-df-convert:hover {\n",
              "      background-color: #E2EBFA;\n",
              "      box-shadow: 0px 1px 2px rgba(60, 64, 67, 0.3), 0px 1px 3px 1px rgba(60, 64, 67, 0.15);\n",
              "      fill: #174EA6;\n",
              "    }\n",
              "\n",
              "    [theme=dark] .colab-df-convert {\n",
              "      background-color: #3B4455;\n",
              "      fill: #D2E3FC;\n",
              "    }\n",
              "\n",
              "    [theme=dark] .colab-df-convert:hover {\n",
              "      background-color: #434B5C;\n",
              "      box-shadow: 0px 1px 3px 1px rgba(0, 0, 0, 0.15);\n",
              "      filter: drop-shadow(0px 1px 2px rgba(0, 0, 0, 0.3));\n",
              "      fill: #FFFFFF;\n",
              "    }\n",
              "  </style>\n",
              "\n",
              "      <script>\n",
              "        const buttonEl =\n",
              "          document.querySelector('#df-8347195a-9670-41dc-8842-bc1ae49ddf9e button.colab-df-convert');\n",
              "        buttonEl.style.display =\n",
              "          google.colab.kernel.accessAllowed ? 'block' : 'none';\n",
              "\n",
              "        async function convertToInteractive(key) {\n",
              "          const element = document.querySelector('#df-8347195a-9670-41dc-8842-bc1ae49ddf9e');\n",
              "          const dataTable =\n",
              "            await google.colab.kernel.invokeFunction('convertToInteractive',\n",
              "                                                     [key], {});\n",
              "          if (!dataTable) return;\n",
              "\n",
              "          const docLinkHtml = 'Like what you see? Visit the ' +\n",
              "            '<a target=\"_blank\" href=https://colab.research.google.com/notebooks/data_table.ipynb>data table notebook</a>'\n",
              "            + ' to learn more about interactive tables.';\n",
              "          element.innerHTML = '';\n",
              "          dataTable['output_type'] = 'display_data';\n",
              "          await google.colab.output.renderOutput(dataTable, element);\n",
              "          const docLink = document.createElement('div');\n",
              "          docLink.innerHTML = docLinkHtml;\n",
              "          element.appendChild(docLink);\n",
              "        }\n",
              "      </script>\n",
              "    </div>\n",
              "  </div>\n",
              "  "
            ]
          },
          "metadata": {},
          "execution_count": 3
        }
      ]
    },
    {
      "cell_type": "code",
      "source": [
        "#Get stock price data for a 1y\n",
        "aapl.history(period=\"1y\").head(10)"
      ],
      "metadata": {
        "colab": {
          "base_uri": "https://localhost:8080/",
          "height": 394
        },
        "id": "mu9ERNX587O8",
        "outputId": "ef5d200a-2755-4e61-9622-106129281cdd"
      },
      "execution_count": null,
      "outputs": [
        {
          "output_type": "execute_result",
          "data": {
            "text/plain": [
              "                  Open        High         Low       Close     Volume  \\\n",
              "Date                                                                    \n",
              "2021-07-15  148.392213  149.147890  146.254417  147.636520  106820300   \n",
              "2021-07-16  147.616659  148.909262  145.051313  145.558411   93251400   \n",
              "2021-07-19  142.933380  143.251570  140.865195  141.640762  121434600   \n",
              "2021-07-20  142.645057  146.264379  142.147897  145.319763   96350000   \n",
              "2021-07-21  144.703271  145.299869  143.808390  144.574005   74993500   \n",
              "2021-07-22  145.110949  147.358105  144.981683  145.966064   77338200   \n",
              "2021-07-23  146.711792  147.875144  146.085366  147.716049   71447400   \n",
              "2021-07-26  147.427705  148.978840  146.860936  148.143616   72434100   \n",
              "2021-07-27  148.272875  148.362375  144.723163  145.936234  104818600   \n",
              "2021-07-28  143.987370  146.135103  141.730261  144.156403  118931200   \n",
              "\n",
              "            Dividends  Stock Splits  \n",
              "Date                                 \n",
              "2021-07-15        0.0             0  \n",
              "2021-07-16        0.0             0  \n",
              "2021-07-19        0.0             0  \n",
              "2021-07-20        0.0             0  \n",
              "2021-07-21        0.0             0  \n",
              "2021-07-22        0.0             0  \n",
              "2021-07-23        0.0             0  \n",
              "2021-07-26        0.0             0  \n",
              "2021-07-27        0.0             0  \n",
              "2021-07-28        0.0             0  "
            ],
            "text/html": [
              "\n",
              "  <div id=\"df-8f4a42c0-3d07-425b-8c25-18cdabf0098a\">\n",
              "    <div class=\"colab-df-container\">\n",
              "      <div>\n",
              "<style scoped>\n",
              "    .dataframe tbody tr th:only-of-type {\n",
              "        vertical-align: middle;\n",
              "    }\n",
              "\n",
              "    .dataframe tbody tr th {\n",
              "        vertical-align: top;\n",
              "    }\n",
              "\n",
              "    .dataframe thead th {\n",
              "        text-align: right;\n",
              "    }\n",
              "</style>\n",
              "<table border=\"1\" class=\"dataframe\">\n",
              "  <thead>\n",
              "    <tr style=\"text-align: right;\">\n",
              "      <th></th>\n",
              "      <th>Open</th>\n",
              "      <th>High</th>\n",
              "      <th>Low</th>\n",
              "      <th>Close</th>\n",
              "      <th>Volume</th>\n",
              "      <th>Dividends</th>\n",
              "      <th>Stock Splits</th>\n",
              "    </tr>\n",
              "    <tr>\n",
              "      <th>Date</th>\n",
              "      <th></th>\n",
              "      <th></th>\n",
              "      <th></th>\n",
              "      <th></th>\n",
              "      <th></th>\n",
              "      <th></th>\n",
              "      <th></th>\n",
              "    </tr>\n",
              "  </thead>\n",
              "  <tbody>\n",
              "    <tr>\n",
              "      <th>2021-07-15</th>\n",
              "      <td>148.392213</td>\n",
              "      <td>149.147890</td>\n",
              "      <td>146.254417</td>\n",
              "      <td>147.636520</td>\n",
              "      <td>106820300</td>\n",
              "      <td>0.0</td>\n",
              "      <td>0</td>\n",
              "    </tr>\n",
              "    <tr>\n",
              "      <th>2021-07-16</th>\n",
              "      <td>147.616659</td>\n",
              "      <td>148.909262</td>\n",
              "      <td>145.051313</td>\n",
              "      <td>145.558411</td>\n",
              "      <td>93251400</td>\n",
              "      <td>0.0</td>\n",
              "      <td>0</td>\n",
              "    </tr>\n",
              "    <tr>\n",
              "      <th>2021-07-19</th>\n",
              "      <td>142.933380</td>\n",
              "      <td>143.251570</td>\n",
              "      <td>140.865195</td>\n",
              "      <td>141.640762</td>\n",
              "      <td>121434600</td>\n",
              "      <td>0.0</td>\n",
              "      <td>0</td>\n",
              "    </tr>\n",
              "    <tr>\n",
              "      <th>2021-07-20</th>\n",
              "      <td>142.645057</td>\n",
              "      <td>146.264379</td>\n",
              "      <td>142.147897</td>\n",
              "      <td>145.319763</td>\n",
              "      <td>96350000</td>\n",
              "      <td>0.0</td>\n",
              "      <td>0</td>\n",
              "    </tr>\n",
              "    <tr>\n",
              "      <th>2021-07-21</th>\n",
              "      <td>144.703271</td>\n",
              "      <td>145.299869</td>\n",
              "      <td>143.808390</td>\n",
              "      <td>144.574005</td>\n",
              "      <td>74993500</td>\n",
              "      <td>0.0</td>\n",
              "      <td>0</td>\n",
              "    </tr>\n",
              "    <tr>\n",
              "      <th>2021-07-22</th>\n",
              "      <td>145.110949</td>\n",
              "      <td>147.358105</td>\n",
              "      <td>144.981683</td>\n",
              "      <td>145.966064</td>\n",
              "      <td>77338200</td>\n",
              "      <td>0.0</td>\n",
              "      <td>0</td>\n",
              "    </tr>\n",
              "    <tr>\n",
              "      <th>2021-07-23</th>\n",
              "      <td>146.711792</td>\n",
              "      <td>147.875144</td>\n",
              "      <td>146.085366</td>\n",
              "      <td>147.716049</td>\n",
              "      <td>71447400</td>\n",
              "      <td>0.0</td>\n",
              "      <td>0</td>\n",
              "    </tr>\n",
              "    <tr>\n",
              "      <th>2021-07-26</th>\n",
              "      <td>147.427705</td>\n",
              "      <td>148.978840</td>\n",
              "      <td>146.860936</td>\n",
              "      <td>148.143616</td>\n",
              "      <td>72434100</td>\n",
              "      <td>0.0</td>\n",
              "      <td>0</td>\n",
              "    </tr>\n",
              "    <tr>\n",
              "      <th>2021-07-27</th>\n",
              "      <td>148.272875</td>\n",
              "      <td>148.362375</td>\n",
              "      <td>144.723163</td>\n",
              "      <td>145.936234</td>\n",
              "      <td>104818600</td>\n",
              "      <td>0.0</td>\n",
              "      <td>0</td>\n",
              "    </tr>\n",
              "    <tr>\n",
              "      <th>2021-07-28</th>\n",
              "      <td>143.987370</td>\n",
              "      <td>146.135103</td>\n",
              "      <td>141.730261</td>\n",
              "      <td>144.156403</td>\n",
              "      <td>118931200</td>\n",
              "      <td>0.0</td>\n",
              "      <td>0</td>\n",
              "    </tr>\n",
              "  </tbody>\n",
              "</table>\n",
              "</div>\n",
              "      <button class=\"colab-df-convert\" onclick=\"convertToInteractive('df-8f4a42c0-3d07-425b-8c25-18cdabf0098a')\"\n",
              "              title=\"Convert this dataframe to an interactive table.\"\n",
              "              style=\"display:none;\">\n",
              "        \n",
              "  <svg xmlns=\"http://www.w3.org/2000/svg\" height=\"24px\"viewBox=\"0 0 24 24\"\n",
              "       width=\"24px\">\n",
              "    <path d=\"M0 0h24v24H0V0z\" fill=\"none\"/>\n",
              "    <path d=\"M18.56 5.44l.94 2.06.94-2.06 2.06-.94-2.06-.94-.94-2.06-.94 2.06-2.06.94zm-11 1L8.5 8.5l.94-2.06 2.06-.94-2.06-.94L8.5 2.5l-.94 2.06-2.06.94zm10 10l.94 2.06.94-2.06 2.06-.94-2.06-.94-.94-2.06-.94 2.06-2.06.94z\"/><path d=\"M17.41 7.96l-1.37-1.37c-.4-.4-.92-.59-1.43-.59-.52 0-1.04.2-1.43.59L10.3 9.45l-7.72 7.72c-.78.78-.78 2.05 0 2.83L4 21.41c.39.39.9.59 1.41.59.51 0 1.02-.2 1.41-.59l7.78-7.78 2.81-2.81c.8-.78.8-2.07 0-2.86zM5.41 20L4 18.59l7.72-7.72 1.47 1.35L5.41 20z\"/>\n",
              "  </svg>\n",
              "      </button>\n",
              "      \n",
              "  <style>\n",
              "    .colab-df-container {\n",
              "      display:flex;\n",
              "      flex-wrap:wrap;\n",
              "      gap: 12px;\n",
              "    }\n",
              "\n",
              "    .colab-df-convert {\n",
              "      background-color: #E8F0FE;\n",
              "      border: none;\n",
              "      border-radius: 50%;\n",
              "      cursor: pointer;\n",
              "      display: none;\n",
              "      fill: #1967D2;\n",
              "      height: 32px;\n",
              "      padding: 0 0 0 0;\n",
              "      width: 32px;\n",
              "    }\n",
              "\n",
              "    .colab-df-convert:hover {\n",
              "      background-color: #E2EBFA;\n",
              "      box-shadow: 0px 1px 2px rgba(60, 64, 67, 0.3), 0px 1px 3px 1px rgba(60, 64, 67, 0.15);\n",
              "      fill: #174EA6;\n",
              "    }\n",
              "\n",
              "    [theme=dark] .colab-df-convert {\n",
              "      background-color: #3B4455;\n",
              "      fill: #D2E3FC;\n",
              "    }\n",
              "\n",
              "    [theme=dark] .colab-df-convert:hover {\n",
              "      background-color: #434B5C;\n",
              "      box-shadow: 0px 1px 3px 1px rgba(0, 0, 0, 0.15);\n",
              "      filter: drop-shadow(0px 1px 2px rgba(0, 0, 0, 0.3));\n",
              "      fill: #FFFFFF;\n",
              "    }\n",
              "  </style>\n",
              "\n",
              "      <script>\n",
              "        const buttonEl =\n",
              "          document.querySelector('#df-8f4a42c0-3d07-425b-8c25-18cdabf0098a button.colab-df-convert');\n",
              "        buttonEl.style.display =\n",
              "          google.colab.kernel.accessAllowed ? 'block' : 'none';\n",
              "\n",
              "        async function convertToInteractive(key) {\n",
              "          const element = document.querySelector('#df-8f4a42c0-3d07-425b-8c25-18cdabf0098a');\n",
              "          const dataTable =\n",
              "            await google.colab.kernel.invokeFunction('convertToInteractive',\n",
              "                                                     [key], {});\n",
              "          if (!dataTable) return;\n",
              "\n",
              "          const docLinkHtml = 'Like what you see? Visit the ' +\n",
              "            '<a target=\"_blank\" href=https://colab.research.google.com/notebooks/data_table.ipynb>data table notebook</a>'\n",
              "            + ' to learn more about interactive tables.';\n",
              "          element.innerHTML = '';\n",
              "          dataTable['output_type'] = 'display_data';\n",
              "          await google.colab.output.renderOutput(dataTable, element);\n",
              "          const docLink = document.createElement('div');\n",
              "          docLink.innerHTML = docLinkHtml;\n",
              "          element.appendChild(docLink);\n",
              "        }\n",
              "      </script>\n",
              "    </div>\n",
              "  </div>\n",
              "  "
            ]
          },
          "metadata": {},
          "execution_count": 4
        }
      ]
    },
    {
      "cell_type": "markdown",
      "source": [
        "**Tip: Many methods that you should know 😬**\n",
        "\n",
        "*   **Info:** Return a dictionary that contains pieces of information such as price, financial statements, and financial indicators.\n",
        "*   **actions:** Return DataFrame of dividends and splits ratio by date.\n",
        "*   **Financials:** Return DataFrame with financial statement data such as Revenue, Net Income, and EBIT for the last four years.\n",
        "*   **Major Holders:** Return DataFrame that contains a list of shares of major holders\n",
        "*   **Institutional Holders:** Return DataFrame that contains a list of shares of institutional holders.\n",
        "*   **Balance Sheet:** Return a DataFrame that contains balance sheet data for the last four years.\n",
        "*   **Earnings:** Return a DataFrame that contains earnings data for the last four years\n",
        "*   **Sustainability:** Return a DataFrame that contains list of environmental concerns and information on whether or not the company is involved in these sectors\n",
        "*   **Recommendations:** Return a DataFrame that lists recommendations from analysts and firms. It includes grades like Buy, Hold, Underperform, etc."
      ],
      "metadata": {
        "id": "Vf03qAyufcv_"
      }
    },
    {
      "cell_type": "code",
      "source": [
        "#Preparing the data\n",
        "aapl.history(period='3y')['Open'].head()"
      ],
      "metadata": {
        "colab": {
          "base_uri": "https://localhost:8080/"
        },
        "id": "9NEjriLPB-R5",
        "outputId": "f1a9559b-1551-4eea-e669-c12e9581b9cd"
      },
      "execution_count": null,
      "outputs": [
        {
          "output_type": "execute_result",
          "data": {
            "text/plain": [
              "Date\n",
              "2019-07-15    49.798776\n",
              "2019-07-16    49.920775\n",
              "2019-07-17    49.789020\n",
              "2019-07-18    49.776814\n",
              "2019-07-19    50.213586\n",
              "Name: Open, dtype: float64"
            ]
          },
          "metadata": {},
          "execution_count": 5
        }
      ]
    },
    {
      "cell_type": "markdown",
      "source": [
        "# Price Forecasting\n",
        "The stock market is known for its volatility, dynamics, and non-linearity.Therefore, financial analysts, researchers, and data scientists continue to seek analytical methods to identify stock market trends. This gave rise to the concept of algorithmic trading, which executes orders using automated and pre-programmed trading strategies.\n",
        "\n",
        "Price stock forecasting is an important field of study and one of the top applications of machine learning. Machine learning price stock forecasting helps predict the future value of company stocks and other financial assets traded on exchanges. The overall idea of predicting stock prices is to make some profit."
      ],
      "metadata": {
        "id": "RxLD4o3vg-pz"
      }
    },
    {
      "cell_type": "markdown",
      "source": [
        "## Forecasting Models Prophet Time-Series\n",
        "\n",
        "Prophet is a forecasting method that uses an additive model to predict time-series data. This model takes into account the effects of seasonal trends, as well as holiday periods. Seasonal data is best processed using time series that have strong seasonal effects and several seasons of historical data.\n",
        "\n",
        "###Train the data"
      ],
      "metadata": {
        "id": "l4eMgb3Lh_wy"
      }
    },
    {
      "cell_type": "code",
      "source": [
        "train_size = 252*3 # use 3 year of data as traing\n",
        "val_size = 252 #use 1 year of sata as validation\n",
        "train_val_size = train_size + val_size #Size od train  + validarion set\n",
        "i = train_val_size #Day to forecast\n",
        "H = 21\n",
        "\n",
        "df = aapl.history(period='3y')[['Open']].reset_index()\n",
        "df.columns = ['ds','y']\n",
        "\n",
        "#Fit prophet model\n",
        "m = Prophet()\n",
        "m.fit(df[i-train_val_size:i])\n",
        "\n",
        "#Create datafrmae with the dates we want to predict\n",
        "future = m.make_future_dataframe(periods=2*H)\n",
        "\n",
        "#Eliminate weekend from future dataframe\n",
        "future['day'] = future['ds'].dt.weekday\n",
        "future = future[future['day']<=4]\n",
        "\n",
        "#Predict\n",
        "forecast = m.predict(future)\n",
        "\n"
      ],
      "metadata": {
        "colab": {
          "base_uri": "https://localhost:8080/"
        },
        "id": "cbCGqP43CpT1",
        "outputId": "7bce800a-0e5d-4a25-f2ff-d4e81c654632"
      },
      "execution_count": null,
      "outputs": [
        {
          "output_type": "stream",
          "name": "stderr",
          "text": [
            "INFO:fbprophet:Disabling daily seasonality. Run prophet with daily_seasonality=True to override this.\n"
          ]
        }
      ]
    },
    {
      "cell_type": "code",
      "source": [
        "#Plotting the data\n",
        "m.plot(forecast)"
      ],
      "metadata": {
        "colab": {
          "base_uri": "https://localhost:8080/",
          "height": 865
        },
        "id": "9vSHIHykFcER",
        "outputId": "1b913848-ac2b-46d3-a528-98dc11fbd6a2"
      },
      "execution_count": null,
      "outputs": [
        {
          "output_type": "execute_result",
          "data": {
            "text/plain": [
              "<Figure size 720x432 with 1 Axes>"
            ],
            "image/png": "[encoded data removed]"
          },
          "metadata": {},
          "execution_count": 7
        },
        {
          "output_type": "display_data",
          "data": {
            "text/plain": [
              "<Figure size 720x432 with 1 Axes>"
            ],
            "image/png": "[encoded data removed]"
          },
          "metadata": {}
        }
      ]
    },
    {
      "cell_type": "markdown",
      "source": [
        "# PyPortfolioOpt"
      ],
      "metadata": {
        "id": "G2UCNboJvBLB"
      }
    },
    {
      "cell_type": "markdown",
      "source": [
        "### Prepare our data\n",
        "\n",
        "Here we need to prepare our data and this could be done easily using yfinance"
      ],
      "metadata": {
        "id": "sLj30V2qtdwD"
      }
    },
    {
      "cell_type": "code",
      "source": [
        "stock = [\"SPY\",\"TLT\",\"GLD\",\"AAPL\",\"MCD\",\"DIS\"]\n",
        "stock_data = yf.download(stock,period='10y')[\"Adj Close\"]\n",
        "\n",
        "#Display stock data\n",
        "stock_data.tail(10)"
      ],
      "metadata": {
        "colab": {
          "base_uri": "https://localhost:8080/",
          "height": 412
        },
        "id": "9ue1YuC6IZet",
        "outputId": "ffd95aa3-97ca-4197-b681-31b11e885dd3"
      },
      "execution_count": null,
      "outputs": [
        {
          "output_type": "stream",
          "name": "stdout",
          "text": [
            "[*********************100%***********************]  6 of 6 completed\n"
          ]
        },
        {
          "output_type": "execute_result",
          "data": {
            "text/plain": [
              "                  AAPL        DIS         GLD         MCD         SPY  \\\n",
              "Date                                                                    \n",
              "2022-06-30  136.720001  94.400002  168.460007  246.880005  377.250000   \n",
              "2022-07-01  138.929993  96.139999  168.320007  252.960007  381.239990   \n",
              "2022-07-05  141.559998  97.180000  164.750000  252.289993  381.959991   \n",
              "2022-07-06  142.919998  96.080002  162.139999  251.460007  383.250000   \n",
              "2022-07-07  146.350006  97.430000  162.229996  252.940002  388.989990   \n",
              "2022-07-08  147.039993  95.860001  162.300003  253.240005  388.670013   \n",
              "2022-07-11  144.869995  93.639999  161.429993  253.279999  384.230011   \n",
              "2022-07-12  145.860001  93.599998  160.830002  251.479996  380.829987   \n",
              "2022-07-13  145.490005  92.940002  161.600006  252.669998  378.829987   \n",
              "2022-07-14  148.470001  91.839996  159.330002  252.600006  377.910004   \n",
              "\n",
              "                   TLT  \n",
              "Date                    \n",
              "2022-06-30  114.643005  \n",
              "2022-07-01  115.820000  \n",
              "2022-07-05  116.730003  \n",
              "2022-07-06  114.769997  \n",
              "2022-07-07  113.760002  \n",
              "2022-07-08  112.500000  \n",
              "2022-07-11  114.440002  \n",
              "2022-07-12  115.120003  \n",
              "2022-07-13  116.440002  \n",
              "2022-07-14  115.489998  "
            ],
            "text/html": [
              "\n",
              "  <div id=\"df-d0da7319-d463-42bd-b384-c913d42e6cc0\">\n",
              "    <div class=\"colab-df-container\">\n",
              "      <div>\n",
              "<style scoped>\n",
              "    .dataframe tbody tr th:only-of-type {\n",
              "        vertical-align: middle;\n",
              "    }\n",
              "\n",
              "    .dataframe tbody tr th {\n",
              "        vertical-align: top;\n",
              "    }\n",
              "\n",
              "    .dataframe thead th {\n",
              "        text-align: right;\n",
              "    }\n",
              "</style>\n",
              "<table border=\"1\" class=\"dataframe\">\n",
              "  <thead>\n",
              "    <tr style=\"text-align: right;\">\n",
              "      <th></th>\n",
              "      <th>AAPL</th>\n",
              "      <th>DIS</th>\n",
              "      <th>GLD</th>\n",
              "      <th>MCD</th>\n",
              "      <th>SPY</th>\n",
              "      <th>TLT</th>\n",
              "    </tr>\n",
              "    <tr>\n",
              "      <th>Date</th>\n",
              "      <th></th>\n",
              "      <th></th>\n",
              "      <th></th>\n",
              "      <th></th>\n",
              "      <th></th>\n",
              "      <th></th>\n",
              "    </tr>\n",
              "  </thead>\n",
              "  <tbody>\n",
              "    <tr>\n",
              "      <th>2022-06-30</th>\n",
              "      <td>136.720001</td>\n",
              "      <td>94.400002</td>\n",
              "      <td>168.460007</td>\n",
              "      <td>246.880005</td>\n",
              "      <td>377.250000</td>\n",
              "      <td>114.643005</td>\n",
              "    </tr>\n",
              "    <tr>\n",
              "      <th>2022-07-01</th>\n",
              "      <td>138.929993</td>\n",
              "      <td>96.139999</td>\n",
              "      <td>168.320007</td>\n",
              "      <td>252.960007</td>\n",
              "      <td>381.239990</td>\n",
              "      <td>115.820000</td>\n",
              "    </tr>\n",
              "    <tr>\n",
              "      <th>2022-07-05</th>\n",
              "      <td>141.559998</td>\n",
              "      <td>97.180000</td>\n",
              "      <td>164.750000</td>\n",
              "      <td>252.289993</td>\n",
              "      <td>381.959991</td>\n",
              "      <td>116.730003</td>\n",
              "    </tr>\n",
              "    <tr>\n",
              "      <th>2022-07-06</th>\n",
              "      <td>142.919998</td>\n",
              "      <td>96.080002</td>\n",
              "      <td>162.139999</td>\n",
              "      <td>251.460007</td>\n",
              "      <td>383.250000</td>\n",
              "      <td>114.769997</td>\n",
              "    </tr>\n",
              "    <tr>\n",
              "      <th>2022-07-07</th>\n",
              "      <td>146.350006</td>\n",
              "      <td>97.430000</td>\n",
              "      <td>162.229996</td>\n",
              "      <td>252.940002</td>\n",
              "      <td>388.989990</td>\n",
              "      <td>113.760002</td>\n",
              "    </tr>\n",
              "    <tr>\n",
              "      <th>2022-07-08</th>\n",
              "      <td>147.039993</td>\n",
              "      <td>95.860001</td>\n",
              "      <td>162.300003</td>\n",
              "      <td>253.240005</td>\n",
              "      <td>388.670013</td>\n",
              "      <td>112.500000</td>\n",
              "    </tr>\n",
              "    <tr>\n",
              "      <th>2022-07-11</th>\n",
              "      <td>144.869995</td>\n",
              "      <td>93.639999</td>\n",
              "      <td>161.429993</td>\n",
              "      <td>253.279999</td>\n",
              "      <td>384.230011</td>\n",
              "      <td>114.440002</td>\n",
              "    </tr>\n",
              "    <tr>\n",
              "      <th>2022-07-12</th>\n",
              "      <td>145.860001</td>\n",
              "      <td>93.599998</td>\n",
              "      <td>160.830002</td>\n",
              "      <td>251.479996</td>\n",
              "      <td>380.829987</td>\n",
              "      <td>115.120003</td>\n",
              "    </tr>\n",
              "    <tr>\n",
              "      <th>2022-07-13</th>\n",
              "      <td>145.490005</td>\n",
              "      <td>92.940002</td>\n",
              "      <td>161.600006</td>\n",
              "      <td>252.669998</td>\n",
              "      <td>378.829987</td>\n",
              "      <td>116.440002</td>\n",
              "    </tr>\n",
              "    <tr>\n",
              "      <th>2022-07-14</th>\n",
              "      <td>148.470001</td>\n",
              "      <td>91.839996</td>\n",
              "      <td>159.330002</td>\n",
              "      <td>252.600006</td>\n",
              "      <td>377.910004</td>\n",
              "      <td>115.489998</td>\n",
              "    </tr>\n",
              "  </tbody>\n",
              "</table>\n",
              "</div>\n",
              "      <button class=\"colab-df-convert\" onclick=\"convertToInteractive('df-d0da7319-d463-42bd-b384-c913d42e6cc0')\"\n",
              "              title=\"Convert this dataframe to an interactive table.\"\n",
              "              style=\"display:none;\">\n",
              "        \n",
              "  <svg xmlns=\"http://www.w3.org/2000/svg\" height=\"24px\"viewBox=\"0 0 24 24\"\n",
              "       width=\"24px\">\n",
              "    <path d=\"M0 0h24v24H0V0z\" fill=\"none\"/>\n",
              "    <path d=\"M18.56 5.44l.94 2.06.94-2.06 2.06-.94-2.06-.94-.94-2.06-.94 2.06-2.06.94zm-11 1L8.5 8.5l.94-2.06 2.06-.94-2.06-.94L8.5 2.5l-.94 2.06-2.06.94zm10 10l.94 2.06.94-2.06 2.06-.94-2.06-.94-.94-2.06-.94 2.06-2.06.94z\"/><path d=\"M17.41 7.96l-1.37-1.37c-.4-.4-.92-.59-1.43-.59-.52 0-1.04.2-1.43.59L10.3 9.45l-7.72 7.72c-.78.78-.78 2.05 0 2.83L4 21.41c.39.39.9.59 1.41.59.51 0 1.02-.2 1.41-.59l7.78-7.78 2.81-2.81c.8-.78.8-2.07 0-2.86zM5.41 20L4 18.59l7.72-7.72 1.47 1.35L5.41 20z\"/>\n",
              "  </svg>\n",
              "      </button>\n",
              "      \n",
              "  <style>\n",
              "    .colab-df-container {\n",
              "      display:flex;\n",
              "      flex-wrap:wrap;\n",
              "      gap: 12px;\n",
              "    }\n",
              "\n",
              "    .colab-df-convert {\n",
              "      background-color: #E8F0FE;\n",
              "      border: none;\n",
              "      border-radius: 50%;\n",
              "      cursor: pointer;\n",
              "      display: none;\n",
              "      fill: #1967D2;\n",
              "      height: 32px;\n",
              "      padding: 0 0 0 0;\n",
              "      width: 32px;\n",
              "    }\n",
              "\n",
              "    .colab-df-convert:hover {\n",
              "      background-color: #E2EBFA;\n",
              "      box-shadow: 0px 1px 2px rgba(60, 64, 67, 0.3), 0px 1px 3px 1px rgba(60, 64, 67, 0.15);\n",
              "      fill: #174EA6;\n",
              "    }\n",
              "\n",
              "    [theme=dark] .colab-df-convert {\n",
              "      background-color: #3B4455;\n",
              "      fill: #D2E3FC;\n",
              "    }\n",
              "\n",
              "    [theme=dark] .colab-df-convert:hover {\n",
              "      background-color: #434B5C;\n",
              "      box-shadow: 0px 1px 3px 1px rgba(0, 0, 0, 0.15);\n",
              "      filter: drop-shadow(0px 1px 2px rgba(0, 0, 0, 0.3));\n",
              "      fill: #FFFFFF;\n",
              "    }\n",
              "  </style>\n",
              "\n",
              "      <script>\n",
              "        const buttonEl =\n",
              "          document.querySelector('#df-d0da7319-d463-42bd-b384-c913d42e6cc0 button.colab-df-convert');\n",
              "        buttonEl.style.display =\n",
              "          google.colab.kernel.accessAllowed ? 'block' : 'none';\n",
              "\n",
              "        async function convertToInteractive(key) {\n",
              "          const element = document.querySelector('#df-d0da7319-d463-42bd-b384-c913d42e6cc0');\n",
              "          const dataTable =\n",
              "            await google.colab.kernel.invokeFunction('convertToInteractive',\n",
              "                                                     [key], {});\n",
              "          if (!dataTable) return;\n",
              "\n",
              "          const docLinkHtml = 'Like what you see? Visit the ' +\n",
              "            '<a target=\"_blank\" href=https://colab.research.google.com/notebooks/data_table.ipynb>data table notebook</a>'\n",
              "            + ' to learn more about interactive tables.';\n",
              "          element.innerHTML = '';\n",
              "          dataTable['output_type'] = 'display_data';\n",
              "          await google.colab.output.renderOutput(dataTable, element);\n",
              "          const docLink = document.createElement('div');\n",
              "          docLink.innerHTML = docLinkHtml;\n",
              "          element.appendChild(docLink);\n",
              "        }\n",
              "      </script>\n",
              "    </div>\n",
              "  </div>\n",
              "  "
            ]
          },
          "metadata": {},
          "execution_count": 8
        }
      ]
    },
    {
      "cell_type": "markdown",
      "source": [
        "## Calculate mean historical return\n",
        "\n",
        "Using PyPortfolioOpt, we could calculate the mean historical return to find out the characteristics of each stocks"
      ],
      "metadata": {
        "id": "B7tVKFK18-vi"
      }
    },
    {
      "cell_type": "code",
      "source": [
        "\n",
        "S = risk_models.sample_cov(stock_data)\n",
        "mu = mean_historical_return(stock_data)\n",
        "mu"
      ],
      "metadata": {
        "colab": {
          "base_uri": "https://localhost:8080/"
        },
        "id": "8YLbsM32JH-y",
        "outputId": "e723f715-06aa-441a-f2ee-560a80e12edd"
      },
      "execution_count": null,
      "outputs": [
        {
          "output_type": "execute_result",
          "data": {
            "text/plain": [
              "AAPL    0.231826\n",
              "DIS     0.079376\n",
              "GLD     0.003278\n",
              "MCD     0.138391\n",
              "SPY     0.129530\n",
              "TLT     0.011804\n",
              "dtype: float64"
            ]
          },
          "metadata": {},
          "execution_count": 9
        }
      ]
    },
    {
      "cell_type": "markdown",
      "source": [
        "### Calculate the optimal weights according to the efficient frontier\n",
        "\n",
        "We then calculate the weights for our portfolio in just couple lines of code. We see here that we shouldn’t put any capital in DIS nor GLD."
      ],
      "metadata": {
        "id": "acQHzs0y9aje"
      }
    },
    {
      "cell_type": "code",
      "source": [
        "ef = EfficientFrontier(mu,S)\n",
        "weights = ef.max_sharpe()\n",
        "ef.clean_weights()\n",
        "\n"
      ],
      "metadata": {
        "colab": {
          "base_uri": "https://localhost:8080/"
        },
        "id": "InyxHXZoJqMZ",
        "outputId": "929e0cea-1e55-42e4-ac01-b7df0c701a54"
      },
      "execution_count": null,
      "outputs": [
        {
          "output_type": "execute_result",
          "data": {
            "text/plain": [
              "OrderedDict([('AAPL', 0.36812),\n",
              "             ('DIS', 0.0),\n",
              "             ('GLD', 0.0),\n",
              "             ('MCD', 0.32109),\n",
              "             ('SPY', 0.10749),\n",
              "             ('TLT', 0.2033)])"
            ]
          },
          "metadata": {},
          "execution_count": 10
        }
      ]
    },
    {
      "cell_type": "markdown",
      "source": [
        "### We can also get the performance of our portfolio within that period\n",
        "\n",
        "Our portfolio would have had a 0.84 sharpe ratio 😬"
      ],
      "metadata": {
        "id": "zvcU7TowK1RS"
      }
    },
    {
      "cell_type": "code",
      "source": [
        "ef.portfolio_performance(verbose=True)"
      ],
      "metadata": {
        "colab": {
          "base_uri": "https://localhost:8080/"
        },
        "id": "DUlCnawt9iFf",
        "outputId": "4e4f8ca5-870e-48f0-ba3b-9e772ba87be0"
      },
      "execution_count": null,
      "outputs": [
        {
          "output_type": "stream",
          "name": "stdout",
          "text": [
            "Expected annual return: 14.6%\n",
            "Annual volatility: 15.3%\n",
            "Sharpe Ratio: 0.82\n"
          ]
        },
        {
          "output_type": "execute_result",
          "data": {
            "text/plain": [
              "(0.14609827960454275, 0.15302747177810017, 0.8240238052641522)"
            ]
          },
          "metadata": {},
          "execution_count": 11
        }
      ]
    },
    {
      "cell_type": "markdown",
      "source": [
        "Calculate the number of shares we need to buy if we have $20,000 usd of capital to allocate."
      ],
      "metadata": {
        "id": "qO3qkcRRqi0g"
      }
    },
    {
      "cell_type": "code",
      "source": [
        "latest_price = get_latest_prices(stock_data)\n",
        "da = DiscreteAllocation(weights,latest_price,total_portfolio_value=20000)\n",
        "allocation,lefover = da.lp_portfolio()\n",
        "allocation"
      ],
      "metadata": {
        "colab": {
          "base_uri": "https://localhost:8080/"
        },
        "id": "j0jwpZupromp",
        "outputId": "23f387e8-c68e-40d5-b936-f3a2d098824e"
      },
      "execution_count": null,
      "outputs": [
        {
          "output_type": "execute_result",
          "data": {
            "text/plain": [
              "{'AAPL': 49, 'MCD': 25, 'SPY': 6, 'TLT': 35}"
            ]
          },
          "metadata": {},
          "execution_count": 16
        }
      ]
    }
  ]
}